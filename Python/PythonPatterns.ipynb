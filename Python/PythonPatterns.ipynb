{
 "cells": [
  {
   "cell_type": "markdown",
   "id": "b6e635da",
   "metadata": {},
   "source": [
    "DISCLAIMER: \n",
    "\n",
    "This Python notebook uses python 3.12.0. Other versions may have errors."
   ]
  },
  {
   "cell_type": "code",
   "execution_count": 23,
   "id": "729e77de",
   "metadata": {},
   "outputs": [
    {
     "name": "stdout",
     "output_type": "stream",
     "text": [
      "Requirement already satisfied: fastapi in c:\\users\\12489\\appdata\\local\\programs\\python\\python312\\lib\\site-packages (0.115.12)\n",
      "Requirement already satisfied: uvicorn in c:\\users\\12489\\appdata\\local\\programs\\python\\python312\\lib\\site-packages (0.34.2)\n",
      "Requirement already satisfied: nest_asyncio in c:\\users\\12489\\appdata\\roaming\\python\\python312\\site-packages (1.5.8)\n",
      "Requirement already satisfied: starlette<0.47.0,>=0.40.0 in c:\\users\\12489\\appdata\\local\\programs\\python\\python312\\lib\\site-packages (from fastapi) (0.46.2)\n",
      "Requirement already satisfied: pydantic!=1.8,!=1.8.1,!=2.0.0,!=2.0.1,!=2.1.0,<3.0.0,>=1.7.4 in c:\\users\\12489\\appdata\\local\\programs\\python\\python312\\lib\\site-packages (from fastapi) (2.11.3)\n",
      "Requirement already satisfied: typing-extensions>=4.8.0 in c:\\users\\12489\\appdata\\local\\programs\\python\\python312\\lib\\site-packages (from fastapi) (4.13.2)\n",
      "Requirement already satisfied: click>=7.0 in c:\\users\\12489\\appdata\\local\\programs\\python\\python312\\lib\\site-packages (from uvicorn) (8.1.8)\n",
      "Requirement already satisfied: h11>=0.8 in c:\\users\\12489\\appdata\\local\\programs\\python\\python312\\lib\\site-packages (from uvicorn) (0.16.0)\n",
      "Requirement already satisfied: colorama in c:\\users\\12489\\appdata\\roaming\\python\\python312\\site-packages (from click>=7.0->uvicorn) (0.4.6)\n",
      "Requirement already satisfied: annotated-types>=0.6.0 in c:\\users\\12489\\appdata\\local\\programs\\python\\python312\\lib\\site-packages (from pydantic!=1.8,!=1.8.1,!=2.0.0,!=2.0.1,!=2.1.0,<3.0.0,>=1.7.4->fastapi) (0.7.0)\n",
      "Requirement already satisfied: pydantic-core==2.33.1 in c:\\users\\12489\\appdata\\local\\programs\\python\\python312\\lib\\site-packages (from pydantic!=1.8,!=1.8.1,!=2.0.0,!=2.0.1,!=2.1.0,<3.0.0,>=1.7.4->fastapi) (2.33.1)\n",
      "Requirement already satisfied: typing-inspection>=0.4.0 in c:\\users\\12489\\appdata\\local\\programs\\python\\python312\\lib\\site-packages (from pydantic!=1.8,!=1.8.1,!=2.0.0,!=2.0.1,!=2.1.0,<3.0.0,>=1.7.4->fastapi) (0.4.0)\n",
      "Requirement already satisfied: anyio<5,>=3.6.2 in c:\\users\\12489\\appdata\\local\\programs\\python\\python312\\lib\\site-packages (from starlette<0.47.0,>=0.40.0->fastapi) (4.9.0)\n",
      "Requirement already satisfied: idna>=2.8 in c:\\users\\12489\\appdata\\local\\programs\\python\\python312\\lib\\site-packages (from anyio<5,>=3.6.2->starlette<0.47.0,>=0.40.0->fastapi) (3.10)\n",
      "Requirement already satisfied: sniffio>=1.1 in c:\\users\\12489\\appdata\\local\\programs\\python\\python312\\lib\\site-packages (from anyio<5,>=3.6.2->starlette<0.47.0,>=0.40.0->fastapi) (1.3.1)\n",
      "Note: you may need to restart the kernel to use updated packages.\n"
     ]
    },
    {
     "name": "stderr",
     "output_type": "stream",
     "text": [
      "\n",
      "[notice] A new release of pip is available: 23.2.1 -> 25.1\n",
      "[notice] To update, run: python.exe -m pip install --upgrade pip\n"
     ]
    }
   ],
   "source": [
    "%pip install fastapi uvicorn nest_asyncio"
   ]
  },
  {
   "cell_type": "code",
   "execution_count": 24,
   "id": "068c216c",
   "metadata": {},
   "outputs": [
    {
     "name": "stderr",
     "output_type": "stream",
     "text": [
      "INFO:     Started server process [39424]\n",
      "INFO:     Waiting for application startup.\n",
      "INFO:     Application startup complete.\n",
      "INFO:     Uvicorn running on http://127.0.0.1:8000 (Press CTRL+C to quit)\n"
     ]
    },
    {
     "name": "stdout",
     "output_type": "stream",
     "text": [
      "INFO:     127.0.0.1:58300 - \"GET /get-data HTTP/1.1\" 404 Not Found\n",
      "INFO:     127.0.0.1:58305 - \"POST /predict HTTP/1.1\" 404 Not Found\n"
     ]
    },
    {
     "name": "stderr",
     "output_type": "stream",
     "text": [
      "INFO:     Shutting down\n",
      "INFO:     Waiting for application shutdown.\n",
      "INFO:     Application shutdown complete.\n",
      "INFO:     Finished server process [39424]\n"
     ]
    }
   ],
   "source": [
    "from fastapi import FastAPI\n",
    "import nest_asyncio\n",
    "import uvicorn  \n",
    "\n",
    "nest_asyncio.apply()\n",
    "\n",
    "app = FastAPI()\n",
    "\n",
    "@app.get(\"/\")\n",
    "def read_root():\n",
    "    return {\"Name\" : \"Luke\"}\n",
    "\n",
    "uvicorn.run(app, host=\"127.0.0.1\", port=8000)"
   ]
  },
  {
   "cell_type": "markdown",
   "id": "f8f37947",
   "metadata": {},
   "source": [
    "Slightly more advanced "
   ]
  },
  {
   "cell_type": "code",
   "execution_count": null,
   "id": "9be44cf5",
   "metadata": {},
   "outputs": [],
   "source": [
    "%pip install fastapi uvicorn nest_asyncio python-multipart pandas"
   ]
  },
  {
   "cell_type": "code",
   "execution_count": null,
   "id": "d792c563",
   "metadata": {},
   "outputs": [
    {
     "name": "stderr",
     "output_type": "stream",
     "text": [
      "C:\\Users\\12489\\AppData\\Local\\Temp\\ipykernel_39424\\2447679922.py:15: DeprecationWarning: \n",
      "        on_event is deprecated, use lifespan event handlers instead.\n",
      "\n",
      "        Read more about it in the\n",
      "        [FastAPI docs for Lifespan Events](https://fastapi.tiangolo.com/advanced/events/).\n",
      "        \n",
      "  @app.on_event(\"startup\")\n",
      "INFO:     Started server process [39424]\n",
      "INFO:     Waiting for application startup.\n",
      "INFO:     Application startup complete.\n",
      "INFO:     Uvicorn running on http://127.0.0.1:8000 (Press CTRL+C to quit)\n"
     ]
    },
    {
     "name": "stdout",
     "output_type": "stream",
     "text": [
      "INFO:     127.0.0.1:60589 - \"GET /get-data HTTP/1.1\" 200 OK\n"
     ]
    },
    {
     "name": "stderr",
     "output_type": "stream",
     "text": [
      "INFO:     Shutting down\n",
      "INFO:     Waiting for application shutdown.\n",
      "INFO:     Application shutdown complete.\n",
      "INFO:     Finished server process [39424]\n"
     ]
    }
   ],
   "source": [
    "from fastapi import FastAPI, File, UploadFile\n",
    "from fastapi.responses import JSONResponse\n",
    "import pandas as pd\n",
    "import nest_asyncio\n",
    "import uvicorn  \n",
    "import numpy as np\n",
    "from io import StringIO\n",
    "\n",
    "nest_asyncio.apply()\n",
    "\n",
    "data_records = []\n",
    "\n",
    "app = FastAPI()\n",
    "\n",
    "@app.on_event(\"startup\")\n",
    "def load_data():\n",
    "    global data_records\n",
    "    df = pd.read_csv(\"../MLModel/Data/Shapes.csv\")\n",
    "    data_records = df.to_dict(orient=\"records\")\n",
    "\n",
    "@app.get(\"/get-data\")\n",
    "async def gather_data():\n",
    "    return JSONResponse(content=data_records)\n",
    "\n",
    "uvicorn.run(app, host=\"127.0.0.1\", port=8000)"
   ]
  },
  {
   "cell_type": "markdown",
   "id": "d9ffa406",
   "metadata": {},
   "source": [
    "Lets go slightly further..."
   ]
  },
  {
   "cell_type": "code",
   "execution_count": 1,
   "id": "41fae5d0",
   "metadata": {},
   "outputs": [
    {
     "name": "stdout",
     "output_type": "stream",
     "text": [
      "Requirement already satisfied: fastapi in c:\\users\\12489\\appdata\\local\\programs\\python\\python312\\lib\\site-packages (0.115.12)\n",
      "Requirement already satisfied: uvicorn in c:\\users\\12489\\appdata\\local\\programs\\python\\python312\\lib\\site-packages (0.34.2)\n",
      "Requirement already satisfied: pandas in c:\\users\\12489\\appdata\\local\\programs\\python\\python312\\lib\\site-packages (2.1.3)\n",
      "Requirement already satisfied: scikit-learn in c:\\users\\12489\\appdata\\local\\programs\\python\\python312\\lib\\site-packages (1.3.2)\n",
      "Requirement already satisfied: pydantic in c:\\users\\12489\\appdata\\local\\programs\\python\\python312\\lib\\site-packages (2.11.3)\n",
      "Requirement already satisfied: starlette<0.47.0,>=0.40.0 in c:\\users\\12489\\appdata\\local\\programs\\python\\python312\\lib\\site-packages (from fastapi) (0.46.2)\n",
      "Requirement already satisfied: typing-extensions>=4.8.0 in c:\\users\\12489\\appdata\\local\\programs\\python\\python312\\lib\\site-packages (from fastapi) (4.13.2)\n",
      "Requirement already satisfied: click>=7.0 in c:\\users\\12489\\appdata\\local\\programs\\python\\python312\\lib\\site-packages (from uvicorn) (8.1.8)\n",
      "Requirement already satisfied: h11>=0.8 in c:\\users\\12489\\appdata\\local\\programs\\python\\python312\\lib\\site-packages (from uvicorn) (0.16.0)\n",
      "Requirement already satisfied: numpy<2,>=1.26.0 in c:\\users\\12489\\appdata\\local\\programs\\python\\python312\\lib\\site-packages (from pandas) (1.26.2)\n",
      "Requirement already satisfied: python-dateutil>=2.8.2 in c:\\users\\12489\\appdata\\roaming\\python\\python312\\site-packages (from pandas) (2.8.2)\n",
      "Requirement already satisfied: pytz>=2020.1 in c:\\users\\12489\\appdata\\local\\programs\\python\\python312\\lib\\site-packages (from pandas) (2023.3.post1)\n",
      "Requirement already satisfied: tzdata>=2022.1 in c:\\users\\12489\\appdata\\local\\programs\\python\\python312\\lib\\site-packages (from pandas) (2023.3)\n",
      "Requirement already satisfied: scipy>=1.5.0 in c:\\users\\12489\\appdata\\local\\programs\\python\\python312\\lib\\site-packages (from scikit-learn) (1.11.4)\n",
      "Requirement already satisfied: joblib>=1.1.1 in c:\\users\\12489\\appdata\\local\\programs\\python\\python312\\lib\\site-packages (from scikit-learn) (1.3.2)\n",
      "Requirement already satisfied: threadpoolctl>=2.0.0 in c:\\users\\12489\\appdata\\local\\programs\\python\\python312\\lib\\site-packages (from scikit-learn) (3.2.0)\n",
      "Requirement already satisfied: annotated-types>=0.6.0 in c:\\users\\12489\\appdata\\local\\programs\\python\\python312\\lib\\site-packages (from pydantic) (0.7.0)\n",
      "Requirement already satisfied: pydantic-core==2.33.1 in c:\\users\\12489\\appdata\\local\\programs\\python\\python312\\lib\\site-packages (from pydantic) (2.33.1)\n",
      "Requirement already satisfied: typing-inspection>=0.4.0 in c:\\users\\12489\\appdata\\local\\programs\\python\\python312\\lib\\site-packages (from pydantic) (0.4.0)\n",
      "Requirement already satisfied: colorama in c:\\users\\12489\\appdata\\roaming\\python\\python312\\site-packages (from click>=7.0->uvicorn) (0.4.6)\n",
      "Requirement already satisfied: six>=1.5 in c:\\users\\12489\\appdata\\roaming\\python\\python312\\site-packages (from python-dateutil>=2.8.2->pandas) (1.16.0)\n",
      "Requirement already satisfied: anyio<5,>=3.6.2 in c:\\users\\12489\\appdata\\local\\programs\\python\\python312\\lib\\site-packages (from starlette<0.47.0,>=0.40.0->fastapi) (4.9.0)\n",
      "Requirement already satisfied: idna>=2.8 in c:\\users\\12489\\appdata\\local\\programs\\python\\python312\\lib\\site-packages (from anyio<5,>=3.6.2->starlette<0.47.0,>=0.40.0->fastapi) (3.10)\n",
      "Requirement already satisfied: sniffio>=1.1 in c:\\users\\12489\\appdata\\local\\programs\\python\\python312\\lib\\site-packages (from anyio<5,>=3.6.2->starlette<0.47.0,>=0.40.0->fastapi) (1.3.1)\n",
      "Note: you may need to restart the kernel to use updated packages.\n"
     ]
    },
    {
     "name": "stderr",
     "output_type": "stream",
     "text": [
      "\n",
      "[notice] A new release of pip is available: 23.2.1 -> 25.1\n",
      "[notice] To update, run: python.exe -m pip install --upgrade pip\n"
     ]
    }
   ],
   "source": [
    "%pip install fastapi uvicorn pandas scikit-learn pydantic"
   ]
  },
  {
   "cell_type": "code",
   "execution_count": 3,
   "id": "572b0494",
   "metadata": {},
   "outputs": [
    {
     "name": "stderr",
     "output_type": "stream",
     "text": [
      "C:\\Users\\12489\\AppData\\Local\\Temp\\ipykernel_81556\\3402693199.py:39: DeprecationWarning: \n",
      "        on_event is deprecated, use lifespan event handlers instead.\n",
      "\n",
      "        Read more about it in the\n",
      "        [FastAPI docs for Lifespan Events](https://fastapi.tiangolo.com/advanced/events/).\n",
      "        \n",
      "  @app.on_event(\"startup\")\n",
      "INFO:     Started server process [81556]\n",
      "INFO:     Waiting for application startup.\n",
      "INFO:     Application startup complete.\n",
      "INFO:     Uvicorn running on http://127.0.0.1:8000 (Press CTRL+C to quit)\n"
     ]
    },
    {
     "name": "stdout",
     "output_type": "stream",
     "text": [
      "INFO:     127.0.0.1:56703 - \"GET / HTTP/1.1\" 404 Not Found\n",
      "INFO:     127.0.0.1:56704 - \"GET /get-data HTTP/1.1\" 200 OK\n"
     ]
    },
    {
     "name": "stderr",
     "output_type": "stream",
     "text": [
      "INFO:     Shutting down\n",
      "INFO:     Waiting for application shutdown.\n",
      "INFO:     Application shutdown complete.\n",
      "INFO:     Finished server process [81556]\n"
     ]
    }
   ],
   "source": [
    "from fastapi import FastAPI\n",
    "from fastapi.responses import JSONResponse\n",
    "from pydantic import BaseModel\n",
    "import pandas as pd\n",
    "import nest_asyncio\n",
    "import uvicorn  \n",
    "import numpy as np\n",
    "from sklearn.tree import DecisionTreeClassifier\n",
    "\n",
    "df = pd.DataFrame()\n",
    "\n",
    "app = FastAPI()\n",
    "\n",
    "model = None\n",
    "feature_columns = [\"Edges\",\"Length\",\"Width\"]\n",
    "\n",
    "nest_asyncio.apply()\n",
    "\n",
    "class ShapeInput(BaseModel):\n",
    "    edges: int\n",
    "    length: int\n",
    "    height: int\n",
    "\n",
    "def load_data():\n",
    "    global df\n",
    "    df = pd.read_csv(\"../MLModel/Data/Shapes.csv\")\n",
    "    \n",
    "\n",
    "def train_model():\n",
    "    global model\n",
    "    global df\n",
    "\n",
    "    X = df[feature_columns]\n",
    "    y = df[\"Shape\"]\n",
    "\n",
    "    model = DecisionTreeClassifier()\n",
    "    model.fit(X, y)\n",
    "\n",
    "@app.on_event(\"startup\")\n",
    "def startup():\n",
    "    load_data()\n",
    "    train_model()\n",
    "\n",
    "@app.get(\"/get-data\")\n",
    "async def gather_data():\n",
    "    global df\n",
    "    data_records = df.to_dict(orient=\"records\")\n",
    "    return JSONResponse(content=data_records)\n",
    "\n",
    "@app.post(\"/predict\")\n",
    "def predict_shape(input: ShapeInput):\n",
    "    input_array = np.array([[input.edges, input.length, input.height]])\n",
    "    prediction = model.predict(input_array)\n",
    "    return {\"predicted_shape\": prediction[0]}\n",
    "\n",
    "uvicorn.run(app, host=\"127.0.0.1\", port=8000)"
   ]
  },
  {
   "cell_type": "code",
   "execution_count": null,
   "id": "84306893",
   "metadata": {},
   "outputs": [],
   "source": []
  }
 ],
 "metadata": {
  "kernelspec": {
   "display_name": "Python 3",
   "language": "python",
   "name": "python3"
  },
  "language_info": {
   "codemirror_mode": {
    "name": "ipython",
    "version": 3
   },
   "file_extension": ".py",
   "mimetype": "text/x-python",
   "name": "python",
   "nbconvert_exporter": "python",
   "pygments_lexer": "ipython3",
   "version": "3.12.0"
  }
 },
 "nbformat": 4,
 "nbformat_minor": 5
}
